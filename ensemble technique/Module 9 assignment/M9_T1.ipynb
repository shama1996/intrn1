{
 "cells": [
  {
   "cell_type": "markdown",
   "metadata": {},
   "source": [
    "# Task: To implement Bagging technique using 100 decision trees"
   ]
  },
  {
   "cell_type": "code",
   "execution_count": null,
   "metadata": {},
   "outputs": [],
   "source": [
    "# importing necessary libraries\n",
    "import pandas as pd\n",
    "import numpy as np"
   ]
  },
  {
   "cell_type": "code",
   "execution_count": null,
   "metadata": {},
   "outputs": [],
   "source": [
    "# importing data\n",
    "data = pd.read_csv('churn_prediction_simple.csv')\n",
    "data.head()"
   ]
  },
  {
   "cell_type": "code",
   "execution_count": null,
   "metadata": {},
   "outputs": [],
   "source": [
    "predictors = data.drop(columns=['churn','customer_id'])\n",
    "target = data['churn']"
   ]
  },
  {
   "cell_type": "markdown",
   "metadata": {},
   "source": [
    "## Steps to implement bagging technique with \"n\" number of trees\n",
    "1. Determine the (n_trees) number of trees\n",
    "2. Make (n_trees) number of bootstrap samples\n",
    "3. For each bootstrap samples build a decision tree model and generate predictions\n",
    "4. For every observation in test set, calculate the model of predictions made by n_trees\n",
    "5. Calculate F1 score for the final predictions"
   ]
  },
  {
   "cell_type": "code",
   "execution_count": null,
   "metadata": {},
   "outputs": [],
   "source": [
    "#splitting data\n",
    "train = data.sample(frac=0.75, replace = False)\n",
    "test = data.append(train)\n",
    "test = test.drop_duplicates(keep=False)\n",
    "\n",
    "#check\n",
    "train.shape, test.shape"
   ]
  },
  {
   "cell_type": "code",
   "execution_count": null,
   "metadata": {},
   "outputs": [],
   "source": [
    "# step1 : Setting n_trees_trees\n",
    "n_trees = 100"
   ]
  },
  {
   "cell_type": "code",
   "execution_count": null,
   "metadata": {},
   "outputs": [],
   "source": [
    "# step2 : Making n_trees bootstrap samples (hint: search pd.sample() function)\n",
    "\n",
    "def BootStrap(data, n_samples, fraction = 1):\n",
    "    '''\n",
    "    function to generate boot strap samples.\n",
    "    data : data to generate bootstrap samples from\n",
    "    n_samples : number of samples to create\n",
    "    fraction : what fraction of data should be each sample (default=1)\n",
    "\n",
    "    Return: a numpy matrix of N,M elements. where N=samples and M=observation in each sample\n",
    "    '''"
   ]
  },
  {
   "cell_type": "code",
   "execution_count": null,
   "metadata": {},
   "outputs": [],
   "source": [
    "# Testing function (do not change)\n",
    "print('observations, columns, samples')\n",
    "print(BootStrap(train, n_trees, fraction=1).shape)\n",
    "print(BootStrap(train, n_trees, fraction=0.75).shape)\n",
    "print(BootStrap(train, n_trees, fraction=0.5).shape)"
   ]
  },
  {
   "cell_type": "markdown",
   "metadata": {},
   "source": [
    "### Expected Outcome\n",
    "\n",
    "<img src=\"images/image1.png\">"
   ]
  },
  {
   "cell_type": "code",
   "execution_count": null,
   "metadata": {},
   "outputs": [],
   "source": [
    "# Step3.1 : create a function called generate predictions which will train a decision tree model over one bootstrap sample and return its predictions on test set\n",
    "\n",
    "def generate_predictions(train_x, train_y, test_x):\n",
    "    '''\n",
    "    train_x: independent variables of sample\n",
    "    train_y: target variable of sample\n",
    "    test_x: independent variables of test data\n",
    "\n",
    "    Return: prediction for the test_x\n",
    "    '''"
   ]
  },
  {
   "cell_type": "code",
   "execution_count": null,
   "metadata": {},
   "outputs": [],
   "source": [
    "## testing function\n",
    "print('Expected length of predictions:', test.shape[0])\n",
    "print(\"generated predictions shape: \",generate_predictions(train.drop(columns=['churn']), train['churn'], test.drop(columns=['churn'])).size)\n",
    "# output numbers should be same"
   ]
  },
  {
   "cell_type": "code",
   "execution_count": null,
   "metadata": {},
   "outputs": [],
   "source": [
    "#Step3.2 : Create a function called Bagging which uses the generate_prediction and bootstrap functions to generate predictions for all the bootstrap samples and calculate mode of predictions for eachhh sample.\n",
    "\n",
    "def Bagging(n_trees, train_data, test_data, sample_fraction):\n",
    "    '''\n",
    "    N-trees: number of trees\n",
    "    Return: final predictions of overall bagging technique\n",
    "    '''"
   ]
  },
  {
   "cell_type": "code",
   "execution_count": null,
   "metadata": {},
   "outputs": [],
   "source": [
    "(Bagging(n_trees, train, test, 1))"
   ]
  },
  {
   "cell_type": "code",
   "execution_count": null,
   "metadata": {},
   "outputs": [],
   "source": []
  }
 ],
 "metadata": {
  "language_info": {
   "codemirror_mode": {
    "name": "ipython",
    "version": 3
   },
   "file_extension": ".py",
   "mimetype": "text/x-python",
   "name": "python",
   "nbconvert_exporter": "python",
   "pygments_lexer": "ipython3",
   "version": "3.5.3-final"
  },
  "orig_nbformat": 2,
  "kernelspec": {
   "name": "python35364bit5527b3f40af34bed895ca03a834eda96",
   "display_name": "Python 3.5.3 64-bit"
  }
 },
 "nbformat": 4,
 "nbformat_minor": 2
}