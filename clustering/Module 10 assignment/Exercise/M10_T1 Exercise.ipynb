{
 "cells": [
  {
   "cell_type": "markdown",
   "metadata": {},
   "source": [
    "## Task: To calculate Inertia for the given dataset from scratch"
   ]
  },
  {
   "cell_type": "code",
   "execution_count": null,
   "metadata": {},
   "outputs": [],
   "source": [
    "## Importing necessary libraries\n",
    "import numpy as np\n",
    "import pandas as pd \n",
    "import matplotlib.pyplot as plt "
   ]
  },
  {
   "cell_type": "code",
   "execution_count": null,
   "metadata": {},
   "outputs": [],
   "source": [
    "data = pd.read_csv(\"clustering.csv\")\n",
    "data.head()"
   ]
  },
  {
   "cell_type": "code",
   "execution_count": null,
   "metadata": {},
   "outputs": [],
   "source": [
    "#plotting clusters\n",
    "plt.figure(dpi=140)\n",
    "\n",
    "#cluster1 and its centroid\n",
    "cluster1 = data[data['label'] == 1]\n",
    "plt.scatter(cluster1['x'],cluster1['y'], color='red', label ='cluster 1')\n",
    "plt.scatter(cluster1['x'].mean(), cluster1['y'].mean(), s=100, color='black', label='centroid 1')\n",
    "\n",
    "#cluster2 and its centroid\n",
    "cluster2 = data[data['label']==2]\n",
    "plt.scatter(cluster2['x'],cluster2['y'], color='green', label ='cluster 2')\n",
    "plt.scatter(cluster2['x'].mean(),cluster2['y'].mean() ,s=100, label = 'centroid 2', color = 'blue')\n",
    "\n",
    "plt.legend()\n",
    "plt.show()"
   ]
  },
  {
   "cell_type": "markdown",
   "metadata": {},
   "source": [
    "Calculating Inertia of clusters\n",
    "\n",
    "**Steps to Calculate Inertia:**\n",
    " \n",
    " 1.   define a function to calculate eucledian distance\n",
    "\n",
    " 2.   calculate distance of every point in cluster 1 from it's centroid\n",
    "\n",
    " 3.   calculate distance of every point in cluster 2 from it's centroid\n",
    " \n",
    " 4.   calculate Inertia"
   ]
  },
  {
   "cell_type": "code",
   "execution_count": null,
   "metadata": {},
   "outputs": [],
   "source": [
    "### Step1: Defining a function for \"euclid\" to calculate distance between two points\n",
    "\n",
    "def euclid(pt1, pt2):\n",
    "    '''\n",
    "    pt1, pt2: two points/coordinates to calculate distance between, must be of same dimension\n",
    "    returns the distance between the two points\n",
    "    '''\n",
    "    \n",
    "\n",
    "    "
   ]
  },
  {
   "cell_type": "code",
   "execution_count": null,
   "metadata": {},
   "outputs": [],
   "source": [
    "### testing function\n",
    "print(euclid([5,5],[10,10]))\n",
    "print(euclid([1,3],[10,12]))"
   ]
  },
  {
   "cell_type": "markdown",
   "metadata": {},
   "source": [
    "#### Expected outcome: \n",
    "\n",
    "<img src=\"images/image2.png\" >"
   ]
  },
  {
   "cell_type": "code",
   "execution_count": null,
   "metadata": {},
   "outputs": [],
   "source": [
    "### Step2: to calculate distance within a single cluster\n",
    "\n",
    "def Inertia(data):\n",
    "    '''\n",
    "    given the complete data points with with cluster target(labels), calculate Inertia\n",
    "    Hint: \n",
    "    1. Identify number of clusters\n",
    "    2. For each cluster\n",
    "        a. calculate centroid\n",
    "        b. use the function : \"euclid\"\n",
    "        c. calculate total sum within that cluster\n",
    "    3. Return inertia\n",
    "    '''\n",
    "    "
   ]
  },
  {
   "cell_type": "code",
   "execution_count": null,
   "metadata": {},
   "outputs": [],
   "source": [
    "Inertia(data)"
   ]
  },
  {
   "cell_type": "markdown",
   "metadata": {},
   "source": [
    "**Expected Outcome**\n",
    "\n",
    "<img src=\"images/image3.png\">"
   ]
  }
 ],
 "metadata": {
  "file_extension": ".py",
  "kernelspec": {
   "display_name": "Python 3",
   "language": "python",
   "name": "python3"
  },
  "language_info": {
   "codemirror_mode": {
    "name": "ipython",
    "version": 3
   },
   "file_extension": ".py",
   "mimetype": "text/x-python",
   "name": "python",
   "nbconvert_exporter": "python",
   "pygments_lexer": "ipython3",
   "version": "3.8.5"
  },
  "mimetype": "text/x-python",
  "name": "python",
  "npconvert_exporter": "python",
  "pygments_lexer": "ipython3",
  "version": 3
 },
 "nbformat": 4,
 "nbformat_minor": 2
}
